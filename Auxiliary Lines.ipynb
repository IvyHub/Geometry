{
 "cells": [
  {
   "cell_type": "markdown",
   "id": "parallel-shoulder",
   "metadata": {},
   "source": [
    "# Auxiliary Lines in Planar Geometry\n",
    "\n",
    "## Preface\n",
    "\n",
    "Proving a proposition in planar geometry is like an outdoor exploration -- to find a path from the starting point (the problem) to the destination (the conclusion). Yet the path can be a broad highway, or a meandering trail, or -- you may even find yourself in front of a river. \n",
    "\n",
    "The auxiliary lines are the bridges to get you across. Such lines are indispensible in many problems, or can drastically simplify the proof in others. Just like there is no universal rule on where or how to build the bridge for all kind of terrains, the auxiliary lines have to be designed for each individual problem. Difficult as it can be for beginners, the process of analyzing the problem and finding the solution is rigorous, creative, fascinating and extremely rewarding. This booklet is intended to give you a helping hand."
   ]
  },
  {
   "cell_type": "markdown",
   "id": "loaded-bearing",
   "metadata": {},
   "source": [
    "## Basic problems\n",
    "\n",
    "Let's look at a simple example. In $\\triangle ABC$, $AD$ is a median. $DE$ extends $AD$ and $DE = AD$ (Figure 1). Show that $BE \\| AC$ and $BE = AC$. \n",
    "\n",
    "![Figure 1](figures/fig1.svg)\n",
    "\n",
    "**Figure 1**\n",
    "\n",
    "It's obvious that to prove $BE \\| AC$, we can start from proving $\\angle EBC = \\angle ACB$, or $\\angle BEA = \\angle CAE$. To prove $BE = AC$, we can try to prove $\\triangle BED \\cong \\triangle CAD$. Note that as the corresponding angles are equal in congruent triangles, $\\angle EBC = \\angle ACB$ or $\\angle BEA = \\angle CAE$ will already be implied when the congruency is established, which is all we need. The proof can be written as follows:\n",
    "\n",
    "$\\because$ $AD$ is a median of $\\triangle ABC$\n",
    "\n",
    "$\\therefore BD = DC$\n",
    "\n",
    "Also $\\because$ $\\angle ADC = \\angle BDE$ and $DE = AD$\n",
    "\n",
    "$\\therefore \\triangle BED \\cong \\triangle CAD$ (SAS)\n",
    "\n",
    "$\\therefore BE = AC, \\angle EBD = \\angle ACD$\n",
    "\n",
    "$\\therefore BE \\| AC$.\n",
    "\n",
    "Given the drawing, we came to the solution fairly smoothly in this example. But in many cases, the drawing itself may not be enough, and auxiliary lines are required. Even in this example, if we connect $CE$, we get $\\text{▱}ABEC$, from which we can easily prove $BE = AC$ and $BE \\| AC$. \n",
    "\n",
    "Let's see some more examples."
   ]
  },
  {
   "cell_type": "markdown",
   "id": "humanitarian-hacker",
   "metadata": {},
   "source": [
    "### Medians\n",
    "\n",
    "![Figure 2](figures/fig2.svg)\n",
    "\n",
    "**Figure 2**\n",
    "\n",
    "![Figure 3](figures/fig3.svg)\n",
    "\n",
    "**Figure 3**\n",
    "\n",
    "![Figure 4](figures/fig4.svg)\n",
    "\n",
    "**Figure 4**\n",
    "\n",
    "![Figure 5](figures/fig5.svg)\n",
    "\n",
    "**Figure 5**\n",
    "\n",
    "![Figure 6](figures/fig6.svg)\n",
    "\n",
    "**Figure 6**"
   ]
  },
  {
   "cell_type": "markdown",
   "id": "organizational-professional",
   "metadata": {},
   "source": [
    "### Midpoints"
   ]
  },
  {
   "cell_type": "markdown",
   "id": "flexible-equipment",
   "metadata": {},
   "source": [
    "### Angle bisects"
   ]
  },
  {
   "cell_type": "markdown",
   "id": "distinguished-prophet",
   "metadata": {},
   "source": [
    "### Trapezoids, squares and triangles\n",
    "\n",
    "![Figure 20](figures/fig20.svg)\n",
    "\n",
    "**Figure 20**\n",
    "\n",
    "![Figure 21](figures/fig21.svg)\n",
    "\n",
    "**Figure 21**\n",
    "\n",
    "![Figure 22](figures/fig22.svg)\n",
    "\n",
    "**Figure 22**\n",
    "\n",
    "![Figure 23](figures/fig23.svg)\n",
    "\n",
    "**Figure 23**\n",
    "\n",
    "![Figure 24](figures/fig24.svg)\n",
    "\n",
    "**Figure 24**\n",
    "\n",
    "![Figure 25](figures/fig25.svg)\n",
    "\n",
    "**Figure 25**\n",
    "\n",
    "![Figure 26](figures/fig26.svg)\n",
    "\n",
    "**Figure 26**\n",
    "\n",
    "![Figure 27](figures/fig27.svg)\n",
    "\n",
    "**Figure 27**\n",
    "\n",
    "![Figure 28](figures/fig28.svg)\n",
    "\n",
    "**Figure 28**\n",
    "\n",
    "![Figure 29](figures/fig29.svg)\n",
    "\n",
    "**Figure 29**\n"
   ]
  },
  {
   "cell_type": "markdown",
   "id": "electoral-storage",
   "metadata": {},
   "source": [
    "### Special points in triangles\n"
   ]
  },
  {
   "cell_type": "markdown",
   "id": "sunset-bullet",
   "metadata": {},
   "source": [
    "### Double angles"
   ]
  },
  {
   "cell_type": "markdown",
   "id": "lesbian-conviction",
   "metadata": {},
   "source": [
    "### Right triangles"
   ]
  },
  {
   "cell_type": "markdown",
   "id": "hired-supervision",
   "metadata": {},
   "source": [
    "### Proportional segments\n",
    "\n",
    "![Figure 47](figures/fig47.svg)\n",
    "\n",
    "**Figure 47**\n",
    "\n",
    "![Figure 48](figures/fig48.svg)\n",
    "\n",
    "**Figure 48**\n",
    "\n",
    "![Figure 49](figures/fig49.svg)\n",
    "\n",
    "**Figure 49**"
   ]
  },
  {
   "cell_type": "markdown",
   "id": "patient-conditioning",
   "metadata": {},
   "source": [
    "### Cyclic quadrilaterals\n",
    "\n",
    "![Figure 66](figures/fig66.svg)\n",
    "\n",
    "**Figure 66**\n",
    "\n",
    "![Figure 67](figures/fig67.svg)\n",
    "\n",
    "**Figure 66**\n",
    "\n",
    "![Figure 68](figures/fig68.svg)\n",
    "\n",
    "**Figure 66**\n",
    "\n",
    "![Figure 69-1](figures/fig69-1.svg) ![Figure 69-2](figures/fig69-2.svg) ![Figure 69-3](figures/fig69-3.svg) ![Figure 69-4](figures/fig69-4.svg)\n",
    "\n",
    "**Figure 69**"
   ]
  },
  {
   "cell_type": "markdown",
   "id": "forward-committee",
   "metadata": {},
   "source": [
    "### Tangent and intersecting circles"
   ]
  },
  {
   "cell_type": "markdown",
   "id": "ultimate-values",
   "metadata": {},
   "source": [
    "## Advanced problems"
   ]
  },
  {
   "cell_type": "markdown",
   "id": "operating-participation",
   "metadata": {},
   "source": [
    "### Problem Set 2\n",
    "\n",
    "![Problem 2](figures/ex2-2.svg)\n",
    "\n",
    "**Problem 2**\n",
    "\n",
    "![Problem 3](figures/ex2-3.svg)\n",
    "\n",
    "**Problem 3**\n",
    "\n",
    "![Problem 4](figures/ex2-4.svg)\n",
    "\n",
    "**Problem 4**\n",
    "\n",
    "![Problem 5](figures/ex2-5.svg)\n",
    "\n",
    "**Problem 5**\n",
    "\n",
    "![Problem 6](figures/ex2-6.svg)\n",
    "\n",
    "**Problem 6**\n",
    "\n",
    "![Problem 7](figures/ex2-7.svg)\n",
    "\n",
    "**Problem 7**\n",
    "\n",
    "![Problem 8](figures/ex2-8.svg)\n",
    "\n",
    "**Problem 8**\n",
    "\n",
    "![Problem 9](figures/ex2-9.svg)\n",
    "\n",
    "**Problem 9**"
   ]
  },
  {
   "cell_type": "markdown",
   "id": "heard-picnic",
   "metadata": {},
   "source": [
    "## Hints and answer keys"
   ]
  }
 ],
 "metadata": {
  "kernelspec": {
   "display_name": "Python 3",
   "language": "python",
   "name": "python3"
  },
  "language_info": {
   "codemirror_mode": {
    "name": "ipython",
    "version": 3
   },
   "file_extension": ".py",
   "mimetype": "text/x-python",
   "name": "python",
   "nbconvert_exporter": "python",
   "pygments_lexer": "ipython3",
   "version": "3.9.1+"
  }
 },
 "nbformat": 4,
 "nbformat_minor": 5
}
