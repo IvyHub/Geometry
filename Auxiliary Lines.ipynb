{
 "cells": [
  {
   "cell_type": "markdown",
   "id": "ranking-spine",
   "metadata": {},
   "source": [
    "# Auxiliary Lines in Planar Geometry\n",
    "\n",
    "## Preface\n",
    "\n",
    "Proving a proposition in planar geometry is like hiking -- to find a path from the starting point (the problem) to the destination (the conclusion). Yet the path can be a broad highway, or a meandering trail, or -- you may even find yourself in front of a river. \n",
    "\n",
    "The auxiliary lines are the bridges to get you across. Such lines are indispensible in many problems, or can drastically simplify the proof in others. Just like there is no universal rule on where or how to build the bridge for any kind of terrain, the auxiliary lines have to be designed for each individual problem. Difficult as it can be for beginners, the process of analyzing the problem and finding the solution is rigorous, creative, interesting and extremely rewarding. This booklet is intended to give you a helping hand."
   ]
  },
  {
   "cell_type": "markdown",
   "id": "together-anthony",
   "metadata": {},
   "source": [
    "## Basic problems\n",
    "\n",
    "In $\\triangle ABC$, $AD$ is a median. $DE$ extends $AD$ and $DE = AD$. Show that $BE \\| AC$ and $BE = AC$.\n",
    "\n",
    "![](figures/fig1.svg)"
   ]
  },
  {
   "cell_type": "code",
   "execution_count": null,
   "id": "promotional-valuation",
   "metadata": {},
   "outputs": [],
   "source": []
  }
 ],
 "metadata": {
  "kernelspec": {
   "display_name": "Python 3",
   "language": "python",
   "name": "python3"
  },
  "language_info": {
   "codemirror_mode": {
    "name": "ipython",
    "version": 3
   },
   "file_extension": ".py",
   "mimetype": "text/x-python",
   "name": "python",
   "nbconvert_exporter": "python",
   "pygments_lexer": "ipython3",
   "version": "3.9.1+"
  }
 },
 "nbformat": 4,
 "nbformat_minor": 5
}
