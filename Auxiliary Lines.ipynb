{
 "cells": [
  {
   "cell_type": "markdown",
   "id": "cleared-ballot",
   "metadata": {},
   "source": [
    "# Auxiliary Lines in Planar Geometry\n",
    "\n",
    "## Preface\n",
    "\n",
    "Proving a proposition in planar geometry is like hiking -- to find a path from the starting point (the problem) to the destination (the conclusion). Yet the path can be a broad highway, or a meandering trail, or -- you may even find yourself in front of a river. \n",
    "\n",
    "The auxiliary lines are the bridges to get you across. Such lines are indispensible in many problems, or can drastically simplify the proof in others. Just like there is no universal rule on where or how to build the bridge for any kind of terrain, the auxiliary lines have to be designed for each individual problem. Difficult as it can be for beginners, the process of analyzing the problem and finding the solution is rigorous, creative, interesting and extremely rewarding. This booklet is intended to give you a helping hand."
   ]
  },
  {
   "cell_type": "markdown",
   "id": "victorian-madonna",
   "metadata": {},
   "source": [
    "## Basic problems\n",
    "\n",
    "Let's look at a simple example. In $\\triangle ABC$, $AD$ is a median. $DE$ extends $AD$ and $DE = AD$. Show that $BE \\| AC$ and $BE = AC$. (Figure 1)\n",
    "\n",
    "![Figure 1](figures/fig1.svg)\n",
    "\n",
    "**Figure 1**\n",
    "\n",
    "It's obvious that to prove $BE \\| AC$, we can start from proving $\\angle EBC = \\angle ACB$, or $\\angle BEA = \\angle CAE$. To prove $BE = AC$, we can try to prove $\\triangle BED \\cong \\triangle CAD$. Note that as the corresponding angles are equal in congruent triangles, $\\angle EBC = \\angle ACB$ or $\\angle BEA = \\angle CAE$ will already be implied when the congruency is established, which is all we need. The proof can be written as follows:\n",
    "\n",
    "$\\because$ $AD$ is a median of $\\triangle ABC$\n",
    "\n",
    "$\\therefore BD = DC$\n",
    "\n",
    "Also $\\because$ $\\angle ADC = \\angle BDE$ and $DE = AD$\n",
    "\n",
    "$\\therefore \\triangle BED \\cong \\triangle CAD$ (SAS)\n",
    "\n",
    "$\\therefore BE = AC, \\angle EBD = \\angle ACD$\n",
    "\n",
    "$\\therefore BE \\| AC$."
   ]
  },
  {
   "cell_type": "code",
   "execution_count": null,
   "id": "regular-improvement",
   "metadata": {},
   "outputs": [],
   "source": []
  }
 ],
 "metadata": {
  "kernelspec": {
   "display_name": "Python 3",
   "language": "python",
   "name": "python3"
  },
  "language_info": {
   "codemirror_mode": {
    "name": "ipython",
    "version": 3
   },
   "file_extension": ".py",
   "mimetype": "text/x-python",
   "name": "python",
   "nbconvert_exporter": "python",
   "pygments_lexer": "ipython3",
   "version": "3.9.1+"
  }
 },
 "nbformat": 4,
 "nbformat_minor": 5
}
